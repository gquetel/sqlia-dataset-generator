{
 "cells": [
  {
   "cell_type": "code",
   "execution_count": 1,
   "id": "c50d7182",
   "metadata": {},
   "outputs": [],
   "source": [
    "%load_ext autoreload\n",
    "%autoreload 2 "
   ]
  },
  {
   "cell_type": "code",
   "execution_count": null,
   "id": "0e68ff3e",
   "metadata": {},
   "outputs": [],
   "source": [
    "import numpy as np \n",
    "import pandas as pd"
   ]
  },
  {
   "cell_type": "code",
   "execution_count": 3,
   "id": "2339d7df",
   "metadata": {},
   "outputs": [
    {
     "name": "stderr",
     "output_type": "stream",
     "text": [
      "/tmp/nix-shell-53297-0/ipykernel_55751/1850950179.py:4: DtypeWarning: Columns (4,5) have mixed types. Specify dtype option on import or set low_memory=False.\n",
      "  df = pd.read_csv(\n"
     ]
    }
   ],
   "source": [
    "dataset_path = \"./dataset.csv\"\n",
    "full = False\n",
    "\n",
    "df = pd.read_csv(\n",
    "    dataset_path,\n",
    "    # dtype is specified to prevent a DtypeWarning\n",
    "    dtype={\n",
    "        \"full_query\": str,\n",
    "        \"label\": int,\n",
    "        \"statement_type\": str,\n",
    "        \"query_template_id\": str,\n",
    "        \"attack_payload\": str,\n",
    "        \"attack_id\": str,\n",
    "        \"attack_technique\": str,\n",
    "        \"attack_desc\": str,\n",
    "        \"split\": str,\n",
    "        \"sqlmap_status\" : str,\n",
    "        \"attack_stage\" : str,\n",
    "    },\n",
    ")\n"
   ]
  },
  {
   "cell_type": "markdown",
   "id": "08799dd8",
   "metadata": {},
   "source": [
    "## Generic stats   \n"
   ]
  },
  {
   "cell_type": "code",
   "execution_count": 4,
   "id": "9ba4af9a",
   "metadata": {},
   "outputs": [
    {
     "data": {
      "text/html": [
       "<div>\n",
       "<style scoped>\n",
       "    .dataframe tbody tr th:only-of-type {\n",
       "        vertical-align: middle;\n",
       "    }\n",
       "\n",
       "    .dataframe tbody tr th {\n",
       "        vertical-align: top;\n",
       "    }\n",
       "\n",
       "    .dataframe thead th {\n",
       "        text-align: right;\n",
       "    }\n",
       "</style>\n",
       "<table border=\"1\" class=\"dataframe\">\n",
       "  <thead>\n",
       "    <tr style=\"text-align: right;\">\n",
       "      <th>attack_stage</th>\n",
       "      <th>exploit</th>\n",
       "      <th>recon</th>\n",
       "    </tr>\n",
       "    <tr>\n",
       "      <th>attack_id</th>\n",
       "      <th></th>\n",
       "      <th></th>\n",
       "    </tr>\n",
       "  </thead>\n",
       "  <tbody>\n",
       "    <tr>\n",
       "      <th>boolean-0</th>\n",
       "      <td>0</td>\n",
       "      <td>2709</td>\n",
       "    </tr>\n",
       "    <tr>\n",
       "      <th>boolean-102</th>\n",
       "      <td>6322</td>\n",
       "      <td>151</td>\n",
       "    </tr>\n",
       "    <tr>\n",
       "      <th>boolean-108</th>\n",
       "      <td>8</td>\n",
       "      <td>173</td>\n",
       "    </tr>\n",
       "    <tr>\n",
       "      <th>boolean-114</th>\n",
       "      <td>6323</td>\n",
       "      <td>153</td>\n",
       "    </tr>\n",
       "    <tr>\n",
       "      <th>boolean-12</th>\n",
       "      <td>0</td>\n",
       "      <td>3078</td>\n",
       "    </tr>\n",
       "    <tr>\n",
       "      <th>...</th>\n",
       "      <td>...</td>\n",
       "      <td>...</td>\n",
       "    </tr>\n",
       "    <tr>\n",
       "      <th>union-8</th>\n",
       "      <td>0</td>\n",
       "      <td>3430</td>\n",
       "    </tr>\n",
       "    <tr>\n",
       "      <th>union-80</th>\n",
       "      <td>0</td>\n",
       "      <td>512</td>\n",
       "    </tr>\n",
       "    <tr>\n",
       "      <th>union-86</th>\n",
       "      <td>0</td>\n",
       "      <td>254</td>\n",
       "    </tr>\n",
       "    <tr>\n",
       "      <th>union-92</th>\n",
       "      <td>0</td>\n",
       "      <td>254</td>\n",
       "    </tr>\n",
       "    <tr>\n",
       "      <th>union-98</th>\n",
       "      <td>0</td>\n",
       "      <td>663</td>\n",
       "    </tr>\n",
       "  </tbody>\n",
       "</table>\n",
       "<p>196 rows × 2 columns</p>\n",
       "</div>"
      ],
      "text/plain": [
       "attack_stage  exploit  recon\n",
       "attack_id                   \n",
       "boolean-0           0   2709\n",
       "boolean-102      6322    151\n",
       "boolean-108         8    173\n",
       "boolean-114      6323    153\n",
       "boolean-12          0   3078\n",
       "...               ...    ...\n",
       "union-8             0   3430\n",
       "union-80            0    512\n",
       "union-86            0    254\n",
       "union-92            0    254\n",
       "union-98            0    663\n",
       "\n",
       "[196 rows x 2 columns]"
      ]
     },
     "metadata": {},
     "output_type": "display_data"
    }
   ],
   "source": [
    "def display_counts_recon(df : pd.DataFrame):\n",
    "    result = df.groupby('attack_id')['attack_stage'].value_counts().unstack(fill_value=0)\n",
    "    \n",
    "    if full:\n",
    "        with pd.option_context('display.max_rows', None, \n",
    "                        'display.max_columns', None,\n",
    "                        'display.width', None,\n",
    "                        'display.max_colwidth', None):\n",
    "            display(result)\n",
    "    else: \n",
    "        display(result)\n",
    "\n",
    "        \n",
    "_ = display_counts_recon(df)\n"
   ]
  },
  {
   "cell_type": "code",
   "execution_count": 5,
   "id": "fafeeb45",
   "metadata": {},
   "outputs": [
    {
     "name": "stdout",
     "output_type": "stream",
     "text": [
      "Number of attacks in train: 136039\n",
      "Number of normal in train: 140006\n",
      "Number of attacks in test: 74510\n",
      "Number of normal in test: 819120\n"
     ]
    }
   ],
   "source": [
    "def display_attack_normal_per_set(df : pd.DataFrame):\n",
    "    df_train_atk = df[(df[\"label\"] == 1) & (df[\"split\"] == \"train\")]  \n",
    "    df_train_normal = df[(df[\"label\"] == 0) & (df[\"split\"] == \"train\")]  \n",
    "\n",
    "    df_test_atk = df[(df[\"label\"] == 1) & (df[\"split\"] == \"test\")]  \n",
    "    df_test_normal = df[(df[\"label\"] == 0) & (df[\"split\"] == \"test\")]  \n",
    "\n",
    "    print(f\"Number of attacks in train: {df_train_atk.shape[0]}\")\n",
    "    print(f\"Number of normal in train: {df_train_normal.shape[0]}\")\n",
    "    print(f\"Number of attacks in test: {df_test_atk.shape[0]}\")\n",
    "    print(f\"Number of normal in test: {df_test_normal.shape[0]}\")\n",
    "\n",
    "display_attack_normal_per_set(df)"
   ]
  },
  {
   "cell_type": "code",
   "execution_count": 6,
   "id": "5d6716ce",
   "metadata": {},
   "outputs": [
    {
     "name": "stdout",
     "output_type": "stream",
     "text": [
      "Template IDS in df train: 44, ['airport-I4' 'airport-S12' 'airport-I8' 'airport-admin12' 'airport-U5'\n",
      " 'airport-U1' 'airport-U8' 'airport-S14' 'airport-S11' 'airport-S17'\n",
      " 'airport-I1' 'airport-S4' 'airport-U9' 'airport-I9' 'airport-S9'\n",
      " 'airport-I2' 'airport-U2' 'airport-S8' 'airport-I3' 'airport-S10'\n",
      " 'airport-S15' 'airport-D1' 'airport-D2' 'airport-D5' 'airport-D4'\n",
      " 'airport-S2' 'airport-D7' 'airport-D8' 'airport-S1' 'airport-D6'\n",
      " 'airport-S5' 'airport-admin6' 'airport-admin9' 'airport-admin10'\n",
      " 'airport-admin11' 'airport-admin8' 'airport-admin5' 'airport-admin13'\n",
      " 'airport-admin7' 'airport-admin2' 'airport-admin3' 'airport-admin4'\n",
      " 'airport-admin14' 'airport-admin1']\n",
      "Template IDS in df test:   51, ['airport-S15' 'airport-S13' 'airport-S16' 'airport-U9' 'airport-S9'\n",
      " 'airport-S2' 'airport-I2' 'airport-U2' 'airport-S8' 'airport-S4'\n",
      " 'airport-S17' 'airport-U1' 'airport-S5' 'airport-I9' 'airport-I4'\n",
      " 'airport-U4' 'airport-I1' 'airport-U3' 'airport-U8' 'airport-S12'\n",
      " 'airport-D7' 'airport-D3' 'airport-S14' 'airport-S10' 'airport-S3'\n",
      " 'airport-I8' 'airport-U5' 'airport-I5' 'airport-I3' 'airport-S11'\n",
      " 'airport-S1' 'airport-D8' 'airport-D5' 'airport-D6' 'airport-admin9'\n",
      " 'airport-D2' 'airport-D1' 'airport-D4' 'airport-admin6' 'airport-admin12'\n",
      " 'airport-admin4' 'airport-admin13' 'airport-admin10' 'airport-admin3'\n",
      " 'airport-admin7' 'airport-admin11' 'airport-admin14' 'airport-admin2'\n",
      " 'airport-admin8' 'airport-admin5' 'airport-admin1']\n",
      "Template IDs in test but NOT in train: 7, {'airport-D3', 'airport-S3', 'airport-I5', 'airport-S13', 'airport-U3', 'airport-U4', 'airport-S16'}\n",
      "Templates IDs with no attacks: {'airport-S11', 'airport-admin3', 'airport-admin6', 'airport-D6', 'airport-admin11', 'airport-admin10', 'airport-admin2', 'airport-admin1', 'airport-admin4', 'airport-admin14', 'airport-admin5', 'airport-admin7', 'airport-admin12', 'airport-D7', 'airport-S10', 'airport-admin9', 'airport-admin8', 'airport-admin13'}\n"
     ]
    }
   ],
   "source": [
    "def display_ids_per_set(df: pd.DataFrame):\n",
    "    df_train = df[df[\"split\"] == \"train\"]\n",
    "    df_test = df[df[\"split\"] == \"test\"]\n",
    "\n",
    "    tids_train = df_train[\"query_template_id\"].unique()\n",
    "    tids_test = df_test[\"query_template_id\"].unique()\n",
    "    tids_complement = set(tids_test) - set(tids_train)\n",
    "    print(f\"Template IDS in df train: {len(tids_train)}, {tids_train}\")\n",
    "    print(f\"Template IDS in df test:   {len(tids_test)}, {tids_test}\")\n",
    "    print(\n",
    "        f\"Template IDs in test but NOT in train: {len(tids_complement)}, {tids_complement}\"\n",
    "    )\n",
    "\n",
    "    # Compute which template only have normal queries\n",
    "    df_n = df.loc[df[\"label\"] == 0,\"query_template_id\"].unique()\n",
    "    df_a = df.loc[df[\"label\"] == 1,\"query_template_id\"].unique()\n",
    "\n",
    "    print(f\"Templates IDs with no attacks: {set(df_n) - set(df_a)}\")\n",
    "\n",
    "\n",
    "display_ids_per_set(df)"
   ]
  },
  {
   "cell_type": "code",
   "execution_count": 22,
   "id": "df39675c",
   "metadata": {},
   "outputs": [
    {
     "data": {
      "image/png": "[encoded data removed]",
      "text/plain": [
       "<Figure size 640x480 with 1 Axes>"
      ]
     },
     "metadata": {},
     "output_type": "display_data"
    }
   ],
   "source": [
    "import matplotlib.pyplot as plt\n",
    "from matplotlib_venn import venn2\n",
    "\n",
    "def plot_templates_in_sets(df : pd.DataFrame): \n",
    "        \n",
    "    df_train = df[df[\"split\"] == \"train\"]\n",
    "    df_test = df[df[\"split\"] == \"test\"]\n",
    "    \n",
    "    tids_train = df_train[\"query_template_id\"].unique()\n",
    "    tids_test = df_test[\"query_template_id\"].unique()\n",
    "    venn2((set(tids_test),set(tids_train)), (\"Testing set \\n templates\",\"Training set \\n templates\"),set_colors=(\"green\",\"blue\"))\n",
    "    plt.show()\n",
    "\n",
    "plot_templates_in_sets(df=df)"
   ]
  },
  {
   "cell_type": "code",
   "execution_count": 7,
   "id": "f062fd42",
   "metadata": {},
   "outputs": [
    {
     "name": "stdout",
     "output_type": "stream",
     "text": [
      "Proportion amongst normal: statement_type\n",
      "select    0.699281\n",
      "delete    0.101661\n",
      "update    0.098085\n",
      "insert    0.090580\n",
      "admin     0.010392\n",
      "Name: proportion, dtype: float64\n",
      "Proportion amongst attacks: statement_type\n",
      "select    0.371101\n",
      "insert    0.309994\n",
      "update    0.185957\n",
      "delete    0.132948\n",
      "Name: proportion, dtype: float64\n",
      "Proportion amongst train: statement_type\n",
      "select    0.529193\n",
      "insert    0.207046\n",
      "update    0.139539\n",
      "delete    0.118187\n",
      "admin     0.006035\n",
      "Name: proportion, dtype: float64\n",
      "Proportion amongst test: statement_type\n",
      "select    0.674500\n",
      "insert    0.106300\n",
      "update    0.105983\n",
      "delete    0.103928\n",
      "admin     0.009289\n",
      "Name: proportion, dtype: float64\n"
     ]
    }
   ],
   "source": [
    "def _stmt_proportion(df: pd.DataFrame):\n",
    "    return df['statement_type'].value_counts(normalize=True)\n",
    "\n",
    "def display_ratio_per_stmt(df : pd.DataFrame):\n",
    "    \n",
    "    df_a = df[df[\"label\"] == 1]\n",
    "    df_n = df[df[\"label\"] == 0]\n",
    "    print(f\"Proportion amongst normal: {_stmt_proportion(df=df_n)}\")\n",
    "    print(f\"Proportion amongst attacks: {_stmt_proportion(df=df_a)}\")\n",
    "        \n",
    "    df_train = df[df[\"split\"] == \"train\"]\n",
    "    df_test = df[df[\"split\"] == \"test\"]\n",
    "    print(f\"Proportion amongst train: {_stmt_proportion(df=df_train)}\")\n",
    "    print(f\"Proportion amongst test: {_stmt_proportion(df=df_test)}\")\n",
    "\n",
    "    dfntest = df_test[df_test[\"label\"] == 0]\n",
    "\n",
    "display_ratio_per_stmt(df=df)"
   ]
  },
  {
   "cell_type": "code",
   "execution_count": 8,
   "id": "7d183469",
   "metadata": {},
   "outputs": [],
   "source": [
    "# ASR = Attack success rate\n",
    "def display_asr_per_technique(df : pd.DataFrame):\n",
    "    df_a = df[df[\"label\"] == 1]\n",
    "    # First keep a sample for each ID: \n",
    "    # dfs = df_a.groupby('attack_id').sample(n=1, random_state=42)\n",
    "    # # Then, compute for each technique, the success \n",
    "    # r = dfs[\"attack_status\"].value_counts(dropna=False)\n",
    "    # print(r)\n",
    "\n",
    "display_asr_per_technique(df=df)"
   ]
  },
  {
   "cell_type": "code",
   "execution_count": 9,
   "id": "590b358e",
   "metadata": {},
   "outputs": [],
   "source": [
    "def display_NAN_sqlmap_status(df : pd.DataFrame): \n",
    "    df_a = df[df[\"label\"] == 1]\n",
    "    dfa_nan = df_a[df_a[\"sqlmap_status\"].isna()]\n",
    "    display(dfa_nan)\n"
   ]
  }
 ],
 "metadata": {
  "kernelspec": {
   "display_name": "Python 3",
   "language": "python",
   "name": "python3"
  },
  "language_info": {
   "codemirror_mode": {
    "name": "ipython",
    "version": 3
   },
   "file_extension": ".py",
   "mimetype": "text/x-python",
   "name": "python",
   "nbconvert_exporter": "python",
   "pygments_lexer": "ipython3",
   "version": "3.11.11"
  }
 },
 "nbformat": 4,
 "nbformat_minor": 5
}
