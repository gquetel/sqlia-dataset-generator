{
 "cells": [
  {
   "cell_type": "code",
   "execution_count": 5,
   "id": "c50d7182",
   "metadata": {},
   "outputs": [
    {
     "name": "stdout",
     "output_type": "stream",
     "text": [
      "The autoreload extension is already loaded. To reload it, use:\n",
      "  %reload_ext autoreload\n"
     ]
    }
   ],
   "source": [
    "%load_ext autoreload\n",
    "%autoreload 2 "
   ]
  },
  {
   "cell_type": "code",
   "execution_count": 6,
   "id": "0e68ff3e",
   "metadata": {},
   "outputs": [],
   "source": [
    "import numpy as np \n",
    "import pandas as pd"
   ]
  },
  {
   "cell_type": "code",
   "execution_count": 7,
   "id": "2339d7df",
   "metadata": {},
   "outputs": [],
   "source": [
    "dataset_path = \"../dataset.csv\"\n",
    "full = False\n",
    "\n",
    "df = pd.read_csv(\n",
    "    dataset_path,\n",
    "    # dtype is specified to prevent a DtypeWarning\n",
    "    dtype={\n",
    "        \"full_query\": str,\n",
    "        \"label\": int,\n",
    "        \"statement_type\": str,\n",
    "        \"query_template_id\": str,\n",
    "        \"attack_payload\": str,\n",
    "        \"attack_id\": str,\n",
    "        \"attack_technique\": str,\n",
    "        \"attack_desc\": str,\n",
    "        \"split\": str,\n",
    "        \"sqlmap_status\" : str,\n",
    "        \"attack_stage\" : str,\n",
    "    },\n",
    ")\n"
   ]
  },
  {
   "cell_type": "markdown",
   "id": "08799dd8",
   "metadata": {},
   "source": [
    "## Generic stats   \n"
   ]
  },
  {
   "cell_type": "code",
   "execution_count": 8,
   "id": "9ba4af9a",
   "metadata": {},
   "outputs": [
    {
     "data": {
      "text/html": [
       "<div>\n",
       "<style scoped>\n",
       "    .dataframe tbody tr th:only-of-type {\n",
       "        vertical-align: middle;\n",
       "    }\n",
       "\n",
       "    .dataframe tbody tr th {\n",
       "        vertical-align: top;\n",
       "    }\n",
       "\n",
       "    .dataframe thead th {\n",
       "        text-align: right;\n",
       "    }\n",
       "</style>\n",
       "<table border=\"1\" class=\"dataframe\">\n",
       "  <thead>\n",
       "    <tr style=\"text-align: right;\">\n",
       "      <th>attack_stage</th>\n",
       "      <th>exploit</th>\n",
       "      <th>recon</th>\n",
       "    </tr>\n",
       "    <tr>\n",
       "      <th>attack_id</th>\n",
       "      <th></th>\n",
       "      <th></th>\n",
       "    </tr>\n",
       "  </thead>\n",
       "  <tbody>\n",
       "    <tr>\n",
       "      <th>error-0</th>\n",
       "      <td>2</td>\n",
       "      <td>462</td>\n",
       "    </tr>\n",
       "    <tr>\n",
       "      <th>error-1</th>\n",
       "      <td>2</td>\n",
       "      <td>225</td>\n",
       "    </tr>\n",
       "    <tr>\n",
       "      <th>error-2</th>\n",
       "      <td>2</td>\n",
       "      <td>1388</td>\n",
       "    </tr>\n",
       "    <tr>\n",
       "      <th>error-3</th>\n",
       "      <td>2</td>\n",
       "      <td>447</td>\n",
       "    </tr>\n",
       "    <tr>\n",
       "      <th>error-4</th>\n",
       "      <td>1</td>\n",
       "      <td>76</td>\n",
       "    </tr>\n",
       "    <tr>\n",
       "      <th>error-5</th>\n",
       "      <td>2</td>\n",
       "      <td>1602</td>\n",
       "    </tr>\n",
       "    <tr>\n",
       "      <th>error-6</th>\n",
       "      <td>2</td>\n",
       "      <td>477</td>\n",
       "    </tr>\n",
       "    <tr>\n",
       "      <th>error-7</th>\n",
       "      <td>2</td>\n",
       "      <td>1525</td>\n",
       "    </tr>\n",
       "    <tr>\n",
       "      <th>error-8</th>\n",
       "      <td>1</td>\n",
       "      <td>579</td>\n",
       "    </tr>\n",
       "  </tbody>\n",
       "</table>\n",
       "</div>"
      ],
      "text/plain": [
       "attack_stage  exploit  recon\n",
       "attack_id                   \n",
       "error-0             2    462\n",
       "error-1             2    225\n",
       "error-2             2   1388\n",
       "error-3             2    447\n",
       "error-4             1     76\n",
       "error-5             2   1602\n",
       "error-6             2    477\n",
       "error-7             2   1525\n",
       "error-8             1    579"
      ]
     },
     "metadata": {},
     "output_type": "display_data"
    }
   ],
   "source": [
    "def display_counts_recon(df : pd.DataFrame):\n",
    "    result = df.groupby('attack_id')['attack_stage'].value_counts().unstack(fill_value=0)\n",
    "    \n",
    "    if full:\n",
    "        with pd.option_context('display.max_rows', None, \n",
    "                        'display.max_columns', None,\n",
    "                        'display.width', None,\n",
    "                        'display.max_colwidth', None):\n",
    "            display(result)\n",
    "    else: \n",
    "        display(result)\n",
    "\n",
    "        \n",
    "_ = display_counts_recon(df)\n"
   ]
  },
  {
   "cell_type": "code",
   "execution_count": 9,
   "id": "fafeeb45",
   "metadata": {},
   "outputs": [
    {
     "name": "stdout",
     "output_type": "stream",
     "text": [
      "Number of attacks in train: 4354\n",
      "Number of normal in train: 4567\n",
      "Number of attacks in test: 2443\n",
      "Number of normal in test: 26936\n"
     ]
    }
   ],
   "source": [
    "def display_attack_normal_per_set(df : pd.DataFrame):\n",
    "    df_train_atk = df[(df[\"label\"] == 1) & (df[\"split\"] == \"train\")]  \n",
    "    df_train_normal = df[(df[\"label\"] == 0) & (df[\"split\"] == \"train\")]  \n",
    "\n",
    "    df_test_atk = df[(df[\"label\"] == 1) & (df[\"split\"] == \"test\")]  \n",
    "    df_test_normal = df[(df[\"label\"] == 0) & (df[\"split\"] == \"test\")]  \n",
    "\n",
    "    print(f\"Number of attacks in train: {df_train_atk.shape[0]}\")\n",
    "    print(f\"Number of normal in train: {df_train_normal.shape[0]}\")\n",
    "    print(f\"Number of attacks in test: {df_test_atk.shape[0]}\")\n",
    "    print(f\"Number of normal in test: {df_test_normal.shape[0]}\")\n",
    "\n",
    "display_attack_normal_per_set(df)"
   ]
  },
  {
   "cell_type": "code",
   "execution_count": 10,
   "id": "5d6716ce",
   "metadata": {},
   "outputs": [
    {
     "name": "stdout",
     "output_type": "stream",
     "text": [
      "Template IDS in df train: 22, ['airport-S10' 'airport-D7' 'airport-S8' 'airport-I5' 'airport-I9'\n",
      " 'airport-D6' 'airport-S11' 'airport-U3' 'airport-admin14'\n",
      " 'airport-admin1' 'airport-admin11' 'airport-admin13' 'airport-admin12'\n",
      " 'airport-admin6' 'airport-admin8' 'airport-admin2' 'airport-admin5'\n",
      " 'airport-admin4' 'airport-admin9' 'airport-admin7' 'airport-admin10'\n",
      " 'airport-admin3']\n",
      "Template IDS in df test:   24, ['airport-I5' 'airport-I4' 'airport-S8' 'airport-S14' 'airport-I9'\n",
      " 'airport-U3' 'airport-D7' 'airport-S11' 'airport-S10' 'airport-D6'\n",
      " 'airport-admin14' 'airport-admin3' 'airport-admin13' 'airport-admin11'\n",
      " 'airport-admin2' 'airport-admin10' 'airport-admin9' 'airport-admin6'\n",
      " 'airport-admin1' 'airport-admin12' 'airport-admin4' 'airport-admin5'\n",
      " 'airport-admin7' 'airport-admin8']\n",
      "Template IDs in test but NOT in train: 2, {'airport-I4', 'airport-S14'}\n",
      "Templates IDs with no attacks: {'airport-admin6', 'airport-admin3', 'airport-admin11', 'airport-admin10', 'airport-admin2', 'airport-admin1', 'airport-admin4', 'airport-admin14', 'airport-admin5', 'airport-admin7', 'airport-admin12', 'airport-D7', 'airport-admin9', 'airport-admin8', 'airport-admin13'}\n"
     ]
    }
   ],
   "source": [
    "def display_ids_per_set(df: pd.DataFrame):\n",
    "    df_train = df[df[\"split\"] == \"train\"]\n",
    "    df_test = df[df[\"split\"] == \"test\"]\n",
    "\n",
    "    tids_train = df_train[\"query_template_id\"].unique()\n",
    "    tids_test = df_test[\"query_template_id\"].unique()\n",
    "    tids_complement = set(tids_test) - set(tids_train)\n",
    "    print(f\"Template IDS in df train: {len(tids_train)}, {tids_train}\")\n",
    "    print(f\"Template IDS in df test:   {len(tids_test)}, {tids_test}\")\n",
    "    print(\n",
    "        f\"Template IDs in test but NOT in train: {len(tids_complement)}, {tids_complement}\"\n",
    "    )\n",
    "\n",
    "    # Compute which template only have normal queries\n",
    "    df_n = df.loc[df[\"label\"] == 0,\"query_template_id\"].unique()\n",
    "    df_a = df.loc[df[\"label\"] == 1,\"query_template_id\"].unique()\n",
    "\n",
    "    print(f\"Templates IDs with no attacks: {set(df_n) - set(df_a)}\")\n",
    "\n",
    "\n",
    "display_ids_per_set(df)"
   ]
  },
  {
   "cell_type": "code",
   "execution_count": 11,
   "id": "df39675c",
   "metadata": {},
   "outputs": [
    {
     "data": {
      "image/png": "[encoded data removed]",
      "text/plain": [
       "<Figure size 640x480 with 1 Axes>"
      ]
     },
     "metadata": {},
     "output_type": "display_data"
    }
   ],
   "source": [
    "import matplotlib.pyplot as plt\n",
    "from matplotlib_venn import venn2\n",
    "\n",
    "def plot_templates_in_sets(df : pd.DataFrame): \n",
    "        \n",
    "    df_train = df[df[\"split\"] == \"train\"]\n",
    "    df_test = df[df[\"split\"] == \"test\"]\n",
    "    \n",
    "    tids_train = df_train[\"query_template_id\"].unique()\n",
    "    tids_test = df_test[\"query_template_id\"].unique()\n",
    "    venn2((set(tids_test),set(tids_train)), (\"Testing set \\n templates\",\"Training set \\n templates\"),set_colors=(\"green\",\"blue\"))\n",
    "    plt.show()\n",
    "\n",
    "plot_templates_in_sets(df=df)"
   ]
  },
  {
   "cell_type": "code",
   "execution_count": 12,
   "id": "f062fd42",
   "metadata": {},
   "outputs": [
    {
     "name": "stdout",
     "output_type": "stream",
     "text": [
      "Proportion amongst normal: statement_type\n",
      "select    0.693109\n",
      "update    0.100784\n",
      "insert    0.100371\n",
      "delete    0.095800\n",
      "admin     0.009936\n",
      "Name: proportion, dtype: float64\n",
      "Proportion amongst attacks: statement_type\n",
      "insert    0.545976\n",
      "select    0.350154\n",
      "update    0.070472\n",
      "delete    0.033397\n",
      "Name: proportion, dtype: float64\n",
      "Proportion amongst train: statement_type\n",
      "select    0.527183\n",
      "insert    0.291111\n",
      "update    0.101110\n",
      "delete    0.074767\n",
      "admin     0.005829\n",
      "Name: proportion, dtype: float64\n",
      "Proportion amongst test: statement_type\n",
      "select    0.664148\n",
      "insert    0.145546\n",
      "update    0.093672\n",
      "delete    0.087750\n",
      "admin     0.008884\n",
      "Name: proportion, dtype: float64\n"
     ]
    }
   ],
   "source": [
    "def _stmt_proportion(df: pd.DataFrame):\n",
    "    return df['statement_type'].value_counts(normalize=True)\n",
    "\n",
    "def display_ratio_per_stmt(df : pd.DataFrame):\n",
    "    \n",
    "    df_a = df[df[\"label\"] == 1]\n",
    "    df_n = df[df[\"label\"] == 0]\n",
    "    print(f\"Proportion amongst normal: {_stmt_proportion(df=df_n)}\")\n",
    "    print(f\"Proportion amongst attacks: {_stmt_proportion(df=df_a)}\")\n",
    "        \n",
    "    df_train = df[df[\"split\"] == \"train\"]\n",
    "    df_test = df[df[\"split\"] == \"test\"]\n",
    "    print(f\"Proportion amongst train: {_stmt_proportion(df=df_train)}\")\n",
    "    print(f\"Proportion amongst test: {_stmt_proportion(df=df_test)}\")\n",
    "\n",
    "    dfntest = df_test[df_test[\"label\"] == 0]\n",
    "\n",
    "display_ratio_per_stmt(df=df)"
   ]
  },
  {
   "cell_type": "code",
   "execution_count": 16,
   "id": "7d183469",
   "metadata": {},
   "outputs": [
    {
     "name": "stdout",
     "output_type": "stream",
     "text": [
      "Template IDS in df original: 22, ['airport-I5' 'airport-S8' 'airport-I9' 'airport-U3' 'airport-D7'\n",
      " 'airport-S11' 'airport-S10' 'airport-D6' 'airport-admin14'\n",
      " 'airport-admin3' 'airport-admin13' 'airport-admin11' 'airport-admin2'\n",
      " 'airport-admin10' 'airport-admin9' 'airport-admin6' 'airport-admin1'\n",
      " 'airport-admin12' 'airport-admin8' 'airport-admin5' 'airport-admin4'\n",
      " 'airport-admin7']\n",
      "Template IDS in df challenging:   2, ['airport-I4' 'airport-S14']\n",
      "Queries in original set: 32087\n",
      "Number of attacks in original: 6140\n",
      "Number of normal in original: 25947\n",
      "Queries in challenging set: 6213\n",
      "Number of attacks in challenging: 657\n",
      "Number of normal in challenging: 5556\n"
     ]
    }
   ],
   "source": [
    "def print_stats_original(df : pd.DataFrame):\n",
    "    df_og = df[df[\"template_split\"] == \"original\"]\n",
    "    df_chall = df[df[\"template_split\"] == \"challenging\"]\n",
    "\n",
    "    tids_og = df_og[\"query_template_id\"].unique()\n",
    "    tids_chall = df_chall[\"query_template_id\"].unique()\n",
    "    print(f\"Template IDS in df original: {len(tids_og)}, {tids_og}\")\n",
    "    print(f\"Template IDS in df challenging:   {len(tids_chall)}, {tids_chall}\")\n",
    "    \n",
    "    print(f\"Queries in original set: {len(df_og)}\")\n",
    "    df_a = df_og[df_og[\"label\"] == 1]\n",
    "    df_n = df_og[df_og[\"label\"] == 0]\n",
    "    print(f\"Number of attacks in original: {df_a.shape[0]}\")\n",
    "    print(f\"Number of normal in original: {df_n.shape[0]}\")\n",
    "\n",
    "    print(f\"Queries in challenging set: {len(df_chall)}\")\n",
    "    df_a = df_chall[df_chall[\"label\"] == 1]\n",
    "    df_n = df_chall[df_chall[\"label\"] == 0]\n",
    "    print(f\"Number of attacks in challenging: {df_a.shape[0]}\")\n",
    "    print(f\"Number of normal in challenging: {df_n.shape[0]}\")\n",
    "print_stats_original(df=df)"
   ]
  },
  {
   "cell_type": "code",
   "execution_count": null,
   "id": "590b358e",
   "metadata": {},
   "outputs": [],
   "source": []
  }
 ],
 "metadata": {
  "kernelspec": {
   "display_name": "Python 3",
   "language": "python",
   "name": "python3"
  },
  "language_info": {
   "codemirror_mode": {
    "name": "ipython",
    "version": 3
   },
   "file_extension": ".py",
   "mimetype": "text/x-python",
   "name": "python",
   "nbconvert_exporter": "python",
   "pygments_lexer": "ipython3",
   "version": "3.11.11"
  }
 },
 "nbformat": 4,
 "nbformat_minor": 5
}
