{
 "cells": [
  {
   "cell_type": "code",
   "execution_count": 21,
   "id": "c50d7182",
   "metadata": {},
   "outputs": [
    {
     "name": "stdout",
     "output_type": "stream",
     "text": [
      "The autoreload extension is already loaded. To reload it, use:\n",
      "  %reload_ext autoreload\n"
     ]
    }
   ],
   "source": [
    "%load_ext autoreload\n",
    "%autoreload 2 "
   ]
  },
  {
   "cell_type": "code",
   "execution_count": 22,
   "id": "0e68ff3e",
   "metadata": {},
   "outputs": [],
   "source": [
    "import numpy as np \n",
    "import pandas as pd"
   ]
  },
  {
   "cell_type": "code",
   "execution_count": 23,
   "id": "2339d7df",
   "metadata": {},
   "outputs": [],
   "source": [
    "dataset_path = \"./dataset.csv\"\n",
    "full = True\n",
    "\n",
    "df = pd.read_csv(\n",
    "    dataset_path,\n",
    "    # dtype is specified to prevent a DtypeWarning\n",
    "    dtype={\n",
    "        \"full_query\": str,\n",
    "        \"label\": int,\n",
    "        \"statement_type\": str,\n",
    "        \"query_template_id\": str,\n",
    "        \"attack_payload\": str,\n",
    "        \"attack_id\": str,\n",
    "        \"attack_technique\": str,\n",
    "        \"attack_desc\": str,\n",
    "        \"split\": str,\n",
    "        \"sqlmap_status\" : str,\n",
    "        \"attack_stage\" : str,\n",
    "    },\n",
    ")\n"
   ]
  },
  {
   "cell_type": "markdown",
   "id": "08799dd8",
   "metadata": {},
   "source": [
    "## Generic stats   \n"
   ]
  },
  {
   "cell_type": "code",
   "execution_count": 24,
   "id": "9ba4af9a",
   "metadata": {},
   "outputs": [
    {
     "data": {
      "text/html": [
       "<div>\n",
       "<style scoped>\n",
       "    .dataframe tbody tr th:only-of-type {\n",
       "        vertical-align: middle;\n",
       "    }\n",
       "\n",
       "    .dataframe tbody tr th {\n",
       "        vertical-align: top;\n",
       "    }\n",
       "\n",
       "    .dataframe thead th {\n",
       "        text-align: right;\n",
       "    }\n",
       "</style>\n",
       "<table border=\"1\" class=\"dataframe\">\n",
       "  <thead>\n",
       "    <tr style=\"text-align: right;\">\n",
       "      <th>attack_stage</th>\n",
       "      <th>exploit</th>\n",
       "      <th>recon</th>\n",
       "    </tr>\n",
       "    <tr>\n",
       "      <th>attack_id</th>\n",
       "      <th></th>\n",
       "      <th></th>\n",
       "    </tr>\n",
       "  </thead>\n",
       "  <tbody>\n",
       "    <tr>\n",
       "      <th>error-0</th>\n",
       "      <td>0</td>\n",
       "      <td>10</td>\n",
       "    </tr>\n",
       "    <tr>\n",
       "      <th>error-1</th>\n",
       "      <td>0</td>\n",
       "      <td>4</td>\n",
       "    </tr>\n",
       "    <tr>\n",
       "      <th>error-2</th>\n",
       "      <td>0</td>\n",
       "      <td>15</td>\n",
       "    </tr>\n",
       "    <tr>\n",
       "      <th>error-3</th>\n",
       "      <td>0</td>\n",
       "      <td>9</td>\n",
       "    </tr>\n",
       "    <tr>\n",
       "      <th>error-4</th>\n",
       "      <td>0</td>\n",
       "      <td>3</td>\n",
       "    </tr>\n",
       "    <tr>\n",
       "      <th>error-5</th>\n",
       "      <td>0</td>\n",
       "      <td>25</td>\n",
       "    </tr>\n",
       "    <tr>\n",
       "      <th>error-6</th>\n",
       "      <td>0</td>\n",
       "      <td>10</td>\n",
       "    </tr>\n",
       "    <tr>\n",
       "      <th>error-7</th>\n",
       "      <td>2</td>\n",
       "      <td>40</td>\n",
       "    </tr>\n",
       "    <tr>\n",
       "      <th>error-8</th>\n",
       "      <td>0</td>\n",
       "      <td>8</td>\n",
       "    </tr>\n",
       "  </tbody>\n",
       "</table>\n",
       "</div>"
      ],
      "text/plain": [
       "attack_stage  exploit  recon\n",
       "attack_id                   \n",
       "error-0             0     10\n",
       "error-1             0      4\n",
       "error-2             0     15\n",
       "error-3             0      9\n",
       "error-4             0      3\n",
       "error-5             0     25\n",
       "error-6             0     10\n",
       "error-7             2     40\n",
       "error-8             0      8"
      ]
     },
     "metadata": {},
     "output_type": "display_data"
    }
   ],
   "source": [
    "def display_counts_recon(df : pd.DataFrame):\n",
    "    result = df.groupby('attack_id')['attack_stage'].value_counts().unstack(fill_value=0)\n",
    "    \n",
    "    if full:\n",
    "        with pd.option_context('display.max_rows', None, \n",
    "                        'display.max_columns', None,\n",
    "                        'display.width', None,\n",
    "                        'display.max_colwidth', None):\n",
    "            display(result)\n",
    "    else: \n",
    "        display(result)\n",
    "\n",
    "        \n",
    "_ = display_counts_recon(df)\n"
   ]
  },
  {
   "cell_type": "code",
   "execution_count": 25,
   "id": "fafeeb45",
   "metadata": {},
   "outputs": [
    {
     "name": "stdout",
     "output_type": "stream",
     "text": [
      "Number of attacks in train: 81\n",
      "Number of normal in train: 86\n",
      "Number of attacks in test: 45\n",
      "Number of normal in test: 495\n"
     ]
    }
   ],
   "source": [
    "def display_attack_normal_per_set(df : pd.DataFrame):\n",
    "    df_train_atk = df[(df[\"label\"] == 1) & (df[\"split\"] == \"train\")]  \n",
    "    df_train_normal = df[(df[\"label\"] == 0) & (df[\"split\"] == \"train\")]  \n",
    "\n",
    "    df_test_atk = df[(df[\"label\"] == 1) & (df[\"split\"] == \"test\")]  \n",
    "    df_test_normal = df[(df[\"label\"] == 0) & (df[\"split\"] == \"test\")]  \n",
    "\n",
    "    print(f\"Number of attacks in train: {df_train_atk.shape[0]}\")\n",
    "    print(f\"Number of normal in train: {df_train_normal.shape[0]}\")\n",
    "    print(f\"Number of attacks in test: {df_test_atk.shape[0]}\")\n",
    "    print(f\"Number of normal in test: {df_test_normal.shape[0]}\")\n",
    "\n",
    "display_attack_normal_per_set(df)"
   ]
  },
  {
   "cell_type": "code",
   "execution_count": 26,
   "id": "5d6716ce",
   "metadata": {},
   "outputs": [
    {
     "name": "stdout",
     "output_type": "stream",
     "text": [
      "Template IDS in df train: 9, ['airport-I9' 'airport-S8' 'airport-S10' 'airport-S11' 'airport-D6'\n",
      " 'airport-U3' 'airport-I5' 'airport-D7' 'airport-admin10']\n",
      "Template IDS in df test:   13, ['airport-I4' 'airport-U3' 'airport-I5' 'airport-S14' 'airport-S8'\n",
      " 'airport-I9' 'airport-D7' 'airport-D6' 'airport-S10' 'airport-S11'\n",
      " 'airport-admin8' 'airport-admin4' 'airport-admin11']\n",
      "Template IDs in test but NOT in train: 5, {'airport-S14', 'airport-admin11', 'airport-I4', 'airport-admin4', 'airport-admin8'}\n",
      "Templates IDs with no attacks: {'airport-D7', 'airport-admin11', 'airport-admin10', 'airport-admin4', 'airport-admin8'}\n"
     ]
    }
   ],
   "source": [
    "def display_ids_per_set(df: pd.DataFrame):\n",
    "    df_train = df[df[\"split\"] == \"train\"]\n",
    "    df_test = df[df[\"split\"] == \"test\"]\n",
    "\n",
    "    tids_train = df_train[\"query_template_id\"].unique()\n",
    "    tids_test = df_test[\"query_template_id\"].unique()\n",
    "    tids_complement = set(tids_test) - set(tids_train)\n",
    "    print(f\"Template IDS in df train: {len(tids_train)}, {tids_train}\")\n",
    "    print(f\"Template IDS in df test:   {len(tids_test)}, {tids_test}\")\n",
    "    print(\n",
    "        f\"Template IDs in test but NOT in train: {len(tids_complement)}, {tids_complement}\"\n",
    "    )\n",
    "\n",
    "    # Compute which template only have normal queries\n",
    "    df_n = df.loc[df[\"label\"] == 0,\"query_template_id\"].unique()\n",
    "    df_a = df.loc[df[\"label\"] == 1,\"query_template_id\"].unique()\n",
    "\n",
    "    print(f\"Templates IDs with no attacks: {set(df_n) - set(df_a)}\")\n",
    "\n",
    "\n",
    "display_ids_per_set(df)"
   ]
  },
  {
   "cell_type": "code",
   "execution_count": 27,
   "id": "f062fd42",
   "metadata": {},
   "outputs": [
    {
     "name": "stdout",
     "output_type": "stream",
     "text": [
      "Proportion amongst normal: statement_type\n",
      "select    0.709122\n",
      "delete    0.106713\n",
      "insert    0.089501\n",
      "update    0.084337\n",
      "admin     0.010327\n",
      "Name: proportion, dtype: float64\n",
      "Proportion amongst attacks: statement_type\n",
      "insert    0.595238\n",
      "select    0.293651\n",
      "update    0.079365\n",
      "delete    0.031746\n",
      "Name: proportion, dtype: float64\n",
      "Proportion amongst train: statement_type\n",
      "select    0.514970\n",
      "insert    0.323353\n",
      "update    0.101796\n",
      "delete    0.053892\n",
      "admin     0.005988\n",
      "Name: proportion, dtype: float64\n",
      "Proportion amongst test: statement_type\n",
      "select    0.672222\n",
      "insert    0.135185\n",
      "delete    0.105556\n",
      "update    0.077778\n",
      "admin     0.009259\n",
      "Name: proportion, dtype: float64\n"
     ]
    }
   ],
   "source": [
    "def _stmt_proportion(df: pd.DataFrame):\n",
    "    return df['statement_type'].value_counts(normalize=True)\n",
    "\n",
    "def display_ratio_per_stmt(df : pd.DataFrame):\n",
    "    \n",
    "    df_a = df[df[\"label\"] == 1]\n",
    "    df_n = df[df[\"label\"] == 0]\n",
    "    print(f\"Proportion amongst normal: {_stmt_proportion(df=df_n)}\")\n",
    "    print(f\"Proportion amongst attacks: {_stmt_proportion(df=df_a)}\")\n",
    "        \n",
    "    df_train = df[df[\"split\"] == \"train\"]\n",
    "    df_test = df[df[\"split\"] == \"test\"]\n",
    "    print(f\"Proportion amongst train: {_stmt_proportion(df=df_train)}\")\n",
    "    print(f\"Proportion amongst test: {_stmt_proportion(df=df_test)}\")\n",
    "\n",
    "    dfntest = df_test[df_test[\"label\"] == 0]\n",
    "\n",
    "display_ratio_per_stmt(df=df)"
   ]
  },
  {
   "cell_type": "code",
   "execution_count": null,
   "id": "7d183469",
   "metadata": {},
   "outputs": [
    {
     "ename": "NameError",
     "evalue": "name 'r' is not defined",
     "output_type": "error",
     "traceback": [
      "\u001b[0;31m---------------------------------------------------------------------------\u001b[0m",
      "\u001b[0;31mNameError\u001b[0m                                 Traceback (most recent call last)",
      "Cell \u001b[0;32mIn[28], line 6\u001b[0m\n\u001b[1;32m      3\u001b[0m     df_a \u001b[38;5;241m=\u001b[39m df[df[\u001b[38;5;124m\"\u001b[39m\u001b[38;5;124mlabel\u001b[39m\u001b[38;5;124m\"\u001b[39m] \u001b[38;5;241m==\u001b[39m \u001b[38;5;241m1\u001b[39m]\n\u001b[1;32m      4\u001b[0m     \u001b[38;5;28mprint\u001b[39m(r)\n\u001b[0;32m----> 6\u001b[0m \u001b[43mdisplay_asr_per_technique\u001b[49m\u001b[43m(\u001b[49m\u001b[43mdf\u001b[49m\u001b[38;5;241;43m=\u001b[39;49m\u001b[43mdf\u001b[49m\u001b[43m)\u001b[49m\n",
      "Cell \u001b[0;32mIn[28], line 4\u001b[0m, in \u001b[0;36mdisplay_asr_per_technique\u001b[0;34m(df)\u001b[0m\n\u001b[1;32m      2\u001b[0m \u001b[38;5;28;01mdef\u001b[39;00m \u001b[38;5;21mdisplay_asr_per_technique\u001b[39m(df : pd\u001b[38;5;241m.\u001b[39mDataFrame):\n\u001b[1;32m      3\u001b[0m     df_a \u001b[38;5;241m=\u001b[39m df[df[\u001b[38;5;124m\"\u001b[39m\u001b[38;5;124mlabel\u001b[39m\u001b[38;5;124m\"\u001b[39m] \u001b[38;5;241m==\u001b[39m \u001b[38;5;241m1\u001b[39m]\n\u001b[0;32m----> 4\u001b[0m     \u001b[38;5;28mprint\u001b[39m(\u001b[43mr\u001b[49m)\n",
      "\u001b[0;31mNameError\u001b[0m: name 'r' is not defined"
     ]
    }
   ],
   "source": [
    "# ASR = Attack success rate\n",
    "def display_asr_per_technique(df : pd.DataFrame):\n",
    "    df_a = df[df[\"label\"] == 1]\n",
    "    # First keep a sample for each ID: \n",
    "    # dfs = df_a.groupby('attack_id').sample(n=1, random_state=42)\n",
    "    # # Then, compute for each technique, the success \n",
    "    # r = dfs[\"attack_status\"].value_counts(dropna=False)\n",
    "    # print(r)\n",
    "\n",
    "display_asr_per_technique(df=df)"
   ]
  },
  {
   "cell_type": "code",
   "execution_count": null,
   "id": "590b358e",
   "metadata": {},
   "outputs": [],
   "source": [
    "def display_NAN_sqlmap_status(df : pd.DataFrame): \n",
    "    df_a = df[df[\"label\"] == 1]\n",
    "    dfa_nan = df_a[df_a[\"sqlmap_status\"].isna()]\n",
    "    display(dfa_nan)\n"
   ]
  }
 ],
 "metadata": {
  "kernelspec": {
   "display_name": "Python 3",
   "language": "python",
   "name": "python3"
  },
  "language_info": {
   "codemirror_mode": {
    "name": "ipython",
    "version": 3
   },
   "file_extension": ".py",
   "mimetype": "text/x-python",
   "name": "python",
   "nbconvert_exporter": "python",
   "pygments_lexer": "ipython3",
   "version": "3.11.11"
  }
 },
 "nbformat": 4,
 "nbformat_minor": 5
}
